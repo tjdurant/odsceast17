{
 "cells": [
  {
   "cell_type": "code",
   "execution_count": 1,
   "metadata": {
    "collapsed": true
   },
   "outputs": [],
   "source": [
    "import time\n",
    "import observation\n",
    "import json\n",
    "import requests\n",
    "\n",
    "from datetime import datetime\n",
    "from elasticsearch import Elasticsearch"
   ]
  },
  {
   "cell_type": "code",
   "execution_count": 5,
   "metadata": {},
   "outputs": [
    {
     "name": "stdout",
     "output_type": "stream",
     "text": [
      "{u'acknowledged': True}\n",
      "{u'index': u'spec-flag', u'acknowledged': True, u'shards_acknowledged': True}\n",
      "{'universal_service_id': 'COMPLETE BLOOD COUNT', 'obs_end_time': '20180308140735', 'req_time': '20180308134049', 'components': {'hemoglobin': {'unit': 'g/dL', 'value': 15.820844503149793}, 'hematocrit': {'unit': '%', 'value': 36.985240335554764}, 'platelet': {'unit': 'x1000/uL', 'value': 211.4950771055766}, 'wbc': {'unit': 'x1000/uL', 'value': 10.140594719757333}}, 'result_status': 'Verified', 'message_type': 'ORU^R01', 'segment': 'MSH', 'method': 'SYSMEX', 'version_id': '2.3', 'message_datetime': '20180308143732'}\n",
      "{'universal_service_id': 'BABESIA', 'obs_end_time': '20180308142603', 'req_time': '20180308140720', 'components': {'count': {'unit': '', 'value': -17.957089092214385}, 'result': {'unit': '', 'value': 'positive'}}, 'result_status': 'Verified', 'message_type': 'ORU^R01', 'segment': 'MSH', 'method': 'MANUAL SMEAR REVIEW', 'version_id': '2.3', 'message_datetime': '20180308143732'}\n"
     ]
    },
    {
     "ename": "KeyboardInterrupt",
     "evalue": "",
     "output_type": "error",
     "traceback": [
      "\u001b[1;31m---------------------------------------------------------------------------\u001b[0m",
      "\u001b[1;31mKeyboardInterrupt\u001b[0m                         Traceback (most recent call last)",
      "\u001b[1;32m<ipython-input-5-80fdd1655d14>\u001b[0m in \u001b[0;36m<module>\u001b[1;34m()\u001b[0m\n\u001b[0;32m     28\u001b[0m         \u001b[0mes\u001b[0m\u001b[1;33m.\u001b[0m\u001b[0mindex\u001b[0m\u001b[1;33m(\u001b[0m\u001b[0mindex\u001b[0m\u001b[1;33m=\u001b[0m\u001b[0mindex\u001b[0m\u001b[1;33m,\u001b[0m \u001b[0mdoc_type\u001b[0m\u001b[1;33m=\u001b[0m\u001b[1;34m'oru'\u001b[0m\u001b[1;33m,\u001b[0m\u001b[0mbody\u001b[0m\u001b[1;33m=\u001b[0m\u001b[0mHL7_MESSAGE\u001b[0m\u001b[1;33m)\u001b[0m\u001b[1;33m\u001b[0m\u001b[0m\n\u001b[0;32m     29\u001b[0m         \u001b[1;32mprint\u001b[0m \u001b[1;33m(\u001b[0m\u001b[0mHL7_MESSAGE\u001b[0m\u001b[1;33m)\u001b[0m\u001b[1;33m\u001b[0m\u001b[0m\n\u001b[1;32m---> 30\u001b[1;33m     \u001b[0mtime\u001b[0m\u001b[1;33m.\u001b[0m\u001b[0msleep\u001b[0m\u001b[1;33m(\u001b[0m\u001b[0mSLEEP\u001b[0m\u001b[1;33m)\u001b[0m\u001b[1;33m\u001b[0m\u001b[0m\n\u001b[0m",
      "\u001b[1;31mKeyboardInterrupt\u001b[0m: "
     ]
    }
   ],
   "source": [
    "NEW_LINE = '\\n'\n",
    "SLEEP = 10\n",
    "NUMBER_MESSAGES = 2\n",
    "index = 'spec-flag'\n",
    "\n",
    "es = Elasticsearch([{'host': 'localhost', 'port': 9200}])\n",
    "if es.indices.exists(index=index):\n",
    "    print es.indices.delete(index=index)\n",
    "print es.indices.create(index=index )\n",
    "while 1:\n",
    "    for _ in range(NUMBER_MESSAGES):\n",
    "        obs = observation.Observation()\n",
    "\n",
    "        HL7_MESSAGE = {\n",
    "            'segment':'MSH',\n",
    "            'message_datetime':'{}'.format(obs.msh_time.strftime(\"%Y%m%d%H%M%S\")),\n",
    "            'message_type':'ORU^R01',\n",
    "            'version_id':'2.3',\n",
    "            'universal_service_id':obs.universal_service_id,\n",
    "            'req_time':obs.req_time.strftime(\"%Y%m%d%H%M%S\"),\n",
    "            'obs_end_time':obs.obs_end_time.strftime(\"%Y%m%d%H%M%S\"),\n",
    "            'method':obs.method,\n",
    "            'result_status':obs.result_status,\n",
    "            'components':obs.oru['components']\n",
    "        }\n",
    "\n",
    "\n",
    "        es.index(index=index, doc_type='oru',body=HL7_MESSAGE)\n",
    "        print (HL7_MESSAGE)\n",
    "    time.sleep(SLEEP)\n"
   ]
  },
  {
   "cell_type": "code",
   "execution_count": null,
   "metadata": {
    "collapsed": true
   },
   "outputs": [],
   "source": []
  }
 ],
 "metadata": {
  "kernelspec": {
   "display_name": "Python 2",
   "language": "python",
   "name": "python2"
  },
  "language_info": {
   "codemirror_mode": {
    "name": "ipython",
    "version": 2
   },
   "file_extension": ".py",
   "mimetype": "text/x-python",
   "name": "python",
   "nbconvert_exporter": "python",
   "pygments_lexer": "ipython2",
   "version": "2.7.14"
  }
 },
 "nbformat": 4,
 "nbformat_minor": 2
}
